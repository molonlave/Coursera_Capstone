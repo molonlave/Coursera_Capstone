{
 "cells": [
  {
   "cell_type": "markdown",
   "metadata": {},
   "source": [
    "# Capstone Project - The Battle of Neighborhoods  (Week 1)"
   ]
  },
  {
   "cell_type": "markdown",
   "metadata": {},
   "source": [
    "## Introduction"
   ]
  },
  {
   "cell_type": "markdown",
   "metadata": {},
   "source": [
    "* ### History of Greek Immigrants in United States"
   ]
  },
  {
   "cell_type": "markdown",
   "metadata": {},
   "source": [
    "_Although Greeks have accounted for a relatively small percentage of the total immigrants to the United States, they have formed strong ethnic communities that have kept alive their language, traditions, and religion. Persons of Greek ancestry account for 0.4 percent of the current population of the United States._\n",
    "\n",
    "_Significant numbers of Greeks did not begin immigrating to the United States until the 1880’s. However, the first Greek immigrants arrived during the 1820’s, when the Greek war of independence from the Ottoman Empire left Greece with a large foreign debt, and the lack of industrialization forced inhabitants to look elsewhere for employment. Following the end of its war of independence, Greece faced a number of internal economic challenges. The country was slow to industrialize through the nineteenth century. As late as 1879, more than 80 percent of its people still lived in rural communities. Currants were Greece’s chief export product, and their price declined so much that many Greek farmers went bankrupt and were unable to pay their taxes. This poor economic climate prompted many Greeks to emigrate. Immigration picked up in the 1890s and early 20th century, due largely to economic opportunity in the U.S., displacement caused by the hardships of Ottoman rule, the Balkan Wars, and World War I. Most of these immigrants had come from southern Greece, especially from the Peloponnesian provinces of Laconia and Arcadia. 450,000 Greeks arrived to the States between 1890 and 1917, most working in the cities of the northeastern United States; others labored on railroad construction and in mines of the western United States; another 70,000 arrived between 1918 and 1924. Each wave of immigration contributed to the growth of Hellenism in the U.S._\n",
    "\n",
    "_Greek immigration at this time was over 90% male, contrasted with most other European immigration to the U.S., such as Italian and Irish immigration, which averaged 50% to 60% male. Many Greek immigrants expected to work and return to their homeland after earning capital and dowries for their families. However, the loss of their homeland due to the Greek Genocide and the 1923 population exchange between Greece and Turkey, which displaced 1,500,000 Greeks from Anatolia, Eastern Thrace, and Pontus caused the initial economic immigrants to reside permanently in America. The Greeks were de jure denaturalized from their homelands and lost the right to return, and their families were made refugees. Additionally, the first widely implemented U.S. immigration limits against non Western European immigrants were made in 1924, creating an impetus for immigrants to apply for citizenship, bring their families and permanently settle in the U.S. Fewer than 30,000 Greek immigrants arrived in the U.S. between 1925 and 1945, most of whom were \"picture brides\" for single Greek men and family members coming over to join relatives._\n",
    "\n",
    "_The events of the early 1920s also provided the stimulus for the first permanent national Greek American religious and civic organizations. Greeks again began to arrive in large numbers after 1945, fleeing the economic devastation caused by World War II and the Greek Civil War. From 1945 until 1982, approximately 211,000 Greeks emigrated to the United States. These later immigrants were less influenced by the powerful assimilation pressures of the 1920s and 1930s and revitalized Greek American identity, especially in areas such as Greek-language media._\n",
    "\n",
    "_Greek immigrants founded more than 600 diners in the New York metropolitan area in the 1950s through the 1970s. Immigration to the United States from Greece peaked between the 1950s and 1970. After the 1981 admission of Greece to the European Union, annual U.S. immigration numbers fell to less than 2,000. In recent years, Greek immigration to the United States has been minimal; in fact, net migration has been towards Greece. Over 72,000 U.S. citizens currently live in Greece (1999); most of them are Greek Americans._\n",
    "\n",
    "_In the aftermath of the Grek financial crisis, there has been a resurgence of Greek emigration to New York City since 2010, accelerating in 2015, and centered upon the traditional Greek enclave of Astoria, Queens. According to The New York Times, this new wave of Greek migration to New York is not being driven as much by opportunities in New York as it is by a lack of economic options in Greece itself._\n",
    "\n",
    "_During the first decade of the twenty-first century, approximately 1.4 million persons of Greek ancestry were living in the United States. They resided in all fifty states, with the greatest numbers living in large cities such as New York City, Chicago and Detroit. Many Greek immigrants have assimilated into American culture, but have remained strongly connected to Greek traditions, religion, and ethnicity. The United States is home to the largest Greek community outside of Greece, ahead of Australia, Cyprus, Canada, Germany and the United Kingdom._"
   ]
  },
  {
   "cell_type": "markdown",
   "metadata": {},
   "source": [
    "* ### Greeks in the United States"
   ]
  },
  {
   "cell_type": "markdown",
   "metadata": {},
   "source": [
    "_Upon arriving in the United States, most Greek immigrants found jobs in various industries. In New England, for example, they worked in textile mills. A particularly large Greek community formed in Lowell, Massachusetts, where many Greek men worked in the mill. In Utah and Colorado, Greeks found work in copper and coal mines. In California they worked in railroad gangs. Many were victimized by padrones, labor brokers who recruited immigrants for jobs in exchange for the immigrants’ wages._\n",
    "\n",
    "_Around the turn of the twentieth century, Greek immigrants began going into business for themselves. They opened shoeshine parlors, candy shops, and, most notably, restaurants. Their first restaurants served native cuisine to fellow Greeks. In Chicago, some moved into the lunch business, working from street carts that sold inexpensive fare to factory workers. After the Chicago city council banned the sale of food on city streets, the immigrants turned to opening permanent establishments. Using mainly family members for labor and requiring little startup money, the restaurant business was the first stable economic base for Greeks in America. By 1919, one of every three restaurants in Chicago was operated by a Greek._\n",
    "\n",
    "_A major unifying force for the Greek community in America was the church. The first Greek Orthodox Church in the United States, the Holy Trinity of New Orleans, was founded in 1864. By 1918, nearly 130 Orthodox churches had been founded across the country. Local community organizations called kinotis raised the necessary funds to establish the churches. Many Greeks sought the close-knit communities they had in their home country, and the churches provided the immigrants with forums in which to share their common beliefs. During the early twenty-first century, Greek Orthodox churches have continued to serve as cultural and social centers for many Greek communities within the United States._"
   ]
  },
  {
   "cell_type": "markdown",
   "metadata": {},
   "source": [
    "* ### The Greek presence in New York"
   ]
  },
  {
   "cell_type": "markdown",
   "metadata": {},
   "source": [
    "_New York City's demographics show that it is a large and ethnically diverse metropolis. It is the largest city in the United States with a long history of international immigration. New York City was home to nearly 8.5 million people in 2014, accounting for over 40% of the population of New York State and a slightly lower percentage of the New York metropolitan area, home to approximately 23.6 million. Over the last decade the city has been growing faster than the region. The New York region continues to be by far the leading metropolitan gateway for legal immigrants admitted into the United States._\n",
    "\n",
    "_With it's diverse culture, comes diverse food items. The cuisine of New York City comprises many cuisines belonging to various ethnic groups that have entered the United States through the city. There are many restaurants in New York City, each belonging to different categories like Chinese, French, Italian, Greek etc._\n",
    "\n",
    "_When the US was ready to open its doors again to new immigrants through the passage of the Immigration and Nationality Act or Hart-Celler Act of 1965, large numbers of Greek professionals, skilled and unskilled workers, and students seeking higher education made New York City their new home. Greeks had achieved middle class status as professionals, hoteliers, restaurateurs, importers and exporters, and other small business owners._\n",
    "\n",
    "_The largest concentration of Greeks can still be found in Astoria. The Greek community there was established in the early 20th century during immigration. The neighborhood still has many Greek food stores and restaurants. Residents of Greek descent make up 1.0% of New York City's population._\n",
    "\n",
    "_So as part of this project, we will list and visualize all major parts of New York City that has great Greek Restaurants._"
   ]
  },
  {
   "cell_type": "markdown",
   "metadata": {},
   "source": [
    "### Data"
   ]
  },
  {
   "cell_type": "markdown",
   "metadata": {},
   "source": [
    "For this project we need the following data :\n",
    "\n",
    "* New York City data that contains list Boroughs, Neighborhoods along with their latitude and longitude.\n",
    "    * Data source: https://cocl.us/new_york_dataset\n",
    "    * Description: This data set contains the required information. And we will use this data set to explore various neighborhoods of New York City.\n",
    "    \n",
    "* Greek Restaurants in each neighborhood of New York City.\n",
    "    * Data source: Fousquare API\n",
    "    * Description: By using this API we will get all the venues in each neighborhood. We can filter these venues to get only Greek Restaurants.\n",
    "    \n",
    "* GeoSpace data.\n",
    "    * Data source: https://data.cityofnewyork.us/City-Government/Borough-Boundaries/tqmj-j8zm\n",
    "    * Description: By using this geoSpace data we will get the New York Borough boundaries that will help us visualize choropleth map."
   ]
  }
 ],
 "metadata": {
  "kernelspec": {
   "display_name": "Python 3",
   "language": "python",
   "name": "python3"
  },
  "language_info": {
   "codemirror_mode": {
    "name": "ipython",
    "version": 3
   },
   "file_extension": ".py",
   "mimetype": "text/x-python",
   "name": "python",
   "nbconvert_exporter": "python",
   "pygments_lexer": "ipython3",
   "version": "3.7.4"
  }
 },
 "nbformat": 4,
 "nbformat_minor": 4
}
